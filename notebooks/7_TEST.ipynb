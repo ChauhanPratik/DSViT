{
 "cells": [
  {
   "cell_type": "code",
   "execution_count": 2,
   "metadata": {},
   "outputs": [],
   "source": [
    "import sys\n",
    "sys.path.append(\"..\")\n",
    "\n",
    "import torch\n",
    "import matplotlib.pyplot as plt\n",
    "from torch.utils.data import Subset, DataLoader\n",
    "from dsvit.model import DSViTDetector\n",
    "from dsvit.dataset import BrainTumorDataset\n",
    "import numpy as np\n",
    "import torch.nn.functional as F"
   ]
  },
  {
   "cell_type": "code",
   "execution_count": 3,
   "metadata": {},
   "outputs": [],
   "source": [
    "classes = {1: 'Meningioma', 2: 'Pituitary', 3: 'Glioma'}\n",
    "dataset = BrainTumorDataset(root_dir=\"/Users/darshdave/Documents/BRAINTUMOR/DATASET/FILES/\")\n",
    "subset_ids = list(range(6))\n",
    "test_loader = DataLoader(Subset(dataset, subset_ids), batch_size=1)"
   ]
  },
  {
   "cell_type": "code",
   "execution_count": 4,
   "metadata": {},
   "outputs": [],
   "source": [
    "model = DSViTDetector()\n",
    "model.load_state_dict(torch.load(\"/Users/darshdave/Documents/BRAINTUMOR/DSVIT/model-weight/best_dsvit_detector.pth\"))\n",
    "model.eval()\n",
    "device = torch.device(\"cuda\" if torch.cuda.is_available() else \"cpu\")\n",
    "model = model.to(device)\n"
   ]
  },
  {
   "cell_type": "code",
   "execution_count": null,
   "metadata": {},
   "outputs": [],
   "source": [
    "for i, (img_tensor, label) in enumerate(test_loader):\n",
    "    img_tensor = img_tensor.to(device)\n",
    "    label = label.item()\n",
    "\n",
    "    with torch.no_grad():\n",
    "        bbox_pred, class_logits = model(img_tensor)\n",
    "\n",
    "    # Prediction output\n",
    "    pred_class = torch.argmax(class_logits, dim=1).item()\n",
    "    conf = F.softmax(class_logits, dim=1)[0, pred_class].item()\n",
    "    bbox = bbox_pred[0].cpu().numpy()\n",
    "\n",
    "    # Image preparation\n",
    "    img = img_tensor.cpu().squeeze(0).squeeze(0).numpy()\n",
    "    scale_factor = 10\n",
    "    x, y, w, h = bbox * scale_factor\n",
    "\n",
    "    print(f\"Image shape: {img.shape}\")\n",
    "    print(f\"Box (scaled): x={x:.2f}, y={y:.2f}, w={w:.2f}, h={h:.2f}\")\n",
    "\n",
    "    if w <= 0 or h <= 0 or x < 0 or y < 0:\n",
    "        print(\"⚠️ Skipping invalid box.\")\n",
    "        continue\n",
    "\n",
    "    # Plotting\n",
    "    plt.imshow(img, cmap='gray')\n",
    "    plt.gca().add_patch(plt.Rectangle((x, y), w, h, edgecolor='yellow', facecolor='none', linewidth=2))\n",
    "    plt.text(x, y-5, f\"Pred: {classes[pred_class+1]} ({conf:.2f})\", color='lime', fontsize=10, backgroundcolor='black')\n",
    "    plt.title(f\"Image {i+1} – Predicted Bounding Box & Class\")\n",
    "    plt.axis('off')\n",
    "    plt.show()"
   ]
  },
  {
   "cell_type": "code",
   "execution_count": null,
   "metadata": {},
   "outputs": [],
   "source": []
  },
  {
   "cell_type": "code",
   "execution_count": null,
   "metadata": {},
   "outputs": [],
   "source": []
  }
 ],
 "metadata": {
  "kernelspec": {
   "display_name": "Python 3",
   "language": "python",
   "name": "python3"
  },
  "language_info": {
   "codemirror_mode": {
    "name": "ipython",
    "version": 3
   },
   "file_extension": ".py",
   "mimetype": "text/x-python",
   "name": "python",
   "nbconvert_exporter": "python",
   "pygments_lexer": "ipython3",
   "version": "3.10.1"
  }
 },
 "nbformat": 4,
 "nbformat_minor": 2
}
